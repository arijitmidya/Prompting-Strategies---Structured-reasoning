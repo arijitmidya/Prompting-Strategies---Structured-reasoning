{
  "nbformat": 4,
  "nbformat_minor": 0,
  "metadata": {
    "colab": {
      "provenance": []
    },
    "kernelspec": {
      "name": "python3",
      "display_name": "Python 3"
    },
    "language_info": {
      "name": "python"
    }
  },
  "cells": [
    {
      "cell_type": "markdown",
      "source": [
        "# Thread of thoughts prompting (ThoT)\n",
        "\n",
        "ThoT, inspired by human cognition, focuses on breaking down extensive contexts into manageable parts, sequentially processing each segment to build a comprehensive response that considers all relevant aspects of the query. It utilizes a two-phase approach where the LLM first summarizes and examines each segment before refining the information for a final response.\n",
        "\n",
        "The example below leverages 2 LLM's ( OpenAI and Gemini models )\n",
        "\n",
        "Notebook structure\n",
        "\n",
        "1. Install necessary dependencies\n",
        "\n",
        "2. Import necessary libraries\n",
        "\n",
        "3. Instantiate the Open AI and Gemini models using the keys\n",
        "\n",
        "4. Define and instantiate the prompt template\n",
        "\n",
        "5. Execute the task using Open AI and Gemini models\n"
      ],
      "metadata": {
        "id": "e0SrkSa9OUAk"
      }
    },
    {
      "cell_type": "markdown",
      "source": [
        "# 1. Install necessary dependencies"
      ],
      "metadata": {
        "id": "ZVyljz1E8sIK"
      }
    },
    {
      "cell_type": "code",
      "source": [
        "! pip install openai"
      ],
      "metadata": {
        "colab": {
          "base_uri": "https://localhost:8080/"
        },
        "id": "VSWOrxVNRQhK",
        "outputId": "f6aefb50-ac6c-489a-9e55-ed9da776f5b1"
      },
      "execution_count": 2,
      "outputs": [
        {
          "output_type": "stream",
          "name": "stdout",
          "text": [
            "Requirement already satisfied: openai in /usr/local/lib/python3.10/dist-packages (1.57.4)\n",
            "Requirement already satisfied: anyio<5,>=3.5.0 in /usr/local/lib/python3.10/dist-packages (from openai) (3.7.1)\n",
            "Requirement already satisfied: distro<2,>=1.7.0 in /usr/local/lib/python3.10/dist-packages (from openai) (1.9.0)\n",
            "Requirement already satisfied: httpx<1,>=0.23.0 in /usr/local/lib/python3.10/dist-packages (from openai) (0.28.1)\n",
            "Requirement already satisfied: jiter<1,>=0.4.0 in /usr/local/lib/python3.10/dist-packages (from openai) (0.8.2)\n",
            "Requirement already satisfied: pydantic<3,>=1.9.0 in /usr/local/lib/python3.10/dist-packages (from openai) (2.10.3)\n",
            "Requirement already satisfied: sniffio in /usr/local/lib/python3.10/dist-packages (from openai) (1.3.1)\n",
            "Requirement already satisfied: tqdm>4 in /usr/local/lib/python3.10/dist-packages (from openai) (4.67.1)\n",
            "Requirement already satisfied: typing-extensions<5,>=4.11 in /usr/local/lib/python3.10/dist-packages (from openai) (4.12.2)\n",
            "Requirement already satisfied: idna>=2.8 in /usr/local/lib/python3.10/dist-packages (from anyio<5,>=3.5.0->openai) (3.10)\n",
            "Requirement already satisfied: exceptiongroup in /usr/local/lib/python3.10/dist-packages (from anyio<5,>=3.5.0->openai) (1.2.2)\n",
            "Requirement already satisfied: certifi in /usr/local/lib/python3.10/dist-packages (from httpx<1,>=0.23.0->openai) (2024.12.14)\n",
            "Requirement already satisfied: httpcore==1.* in /usr/local/lib/python3.10/dist-packages (from httpx<1,>=0.23.0->openai) (1.0.7)\n",
            "Requirement already satisfied: h11<0.15,>=0.13 in /usr/local/lib/python3.10/dist-packages (from httpcore==1.*->httpx<1,>=0.23.0->openai) (0.14.0)\n",
            "Requirement already satisfied: annotated-types>=0.6.0 in /usr/local/lib/python3.10/dist-packages (from pydantic<3,>=1.9.0->openai) (0.7.0)\n",
            "Requirement already satisfied: pydantic-core==2.27.1 in /usr/local/lib/python3.10/dist-packages (from pydantic<3,>=1.9.0->openai) (2.27.1)\n"
          ]
        }
      ]
    },
    {
      "cell_type": "code",
      "source": [
        "!pip install langchain_google_genai"
      ],
      "metadata": {
        "colab": {
          "base_uri": "https://localhost:8080/"
        },
        "id": "cg7TyIE3XTQc",
        "outputId": "a7969bb8-aca6-4082-b15e-3d2e4e697ca5"
      },
      "execution_count": 3,
      "outputs": [
        {
          "output_type": "stream",
          "name": "stdout",
          "text": [
            "Collecting langchain_google_genai\n",
            "  Downloading langchain_google_genai-2.0.7-py3-none-any.whl.metadata (3.6 kB)\n",
            "Collecting filetype<2.0.0,>=1.2.0 (from langchain_google_genai)\n",
            "  Downloading filetype-1.2.0-py2.py3-none-any.whl.metadata (6.5 kB)\n",
            "Requirement already satisfied: google-generativeai<0.9.0,>=0.8.0 in /usr/local/lib/python3.10/dist-packages (from langchain_google_genai) (0.8.3)\n",
            "Requirement already satisfied: langchain-core<0.4,>=0.3.15 in /usr/local/lib/python3.10/dist-packages (from langchain_google_genai) (0.3.25)\n",
            "Requirement already satisfied: pydantic<3,>=2 in /usr/local/lib/python3.10/dist-packages (from langchain_google_genai) (2.10.3)\n",
            "Requirement already satisfied: google-ai-generativelanguage==0.6.10 in /usr/local/lib/python3.10/dist-packages (from google-generativeai<0.9.0,>=0.8.0->langchain_google_genai) (0.6.10)\n",
            "Requirement already satisfied: google-api-core in /usr/local/lib/python3.10/dist-packages (from google-generativeai<0.9.0,>=0.8.0->langchain_google_genai) (2.19.2)\n",
            "Requirement already satisfied: google-api-python-client in /usr/local/lib/python3.10/dist-packages (from google-generativeai<0.9.0,>=0.8.0->langchain_google_genai) (2.155.0)\n",
            "Requirement already satisfied: google-auth>=2.15.0 in /usr/local/lib/python3.10/dist-packages (from google-generativeai<0.9.0,>=0.8.0->langchain_google_genai) (2.27.0)\n",
            "Requirement already satisfied: protobuf in /usr/local/lib/python3.10/dist-packages (from google-generativeai<0.9.0,>=0.8.0->langchain_google_genai) (4.25.5)\n",
            "Requirement already satisfied: tqdm in /usr/local/lib/python3.10/dist-packages (from google-generativeai<0.9.0,>=0.8.0->langchain_google_genai) (4.67.1)\n",
            "Requirement already satisfied: typing-extensions in /usr/local/lib/python3.10/dist-packages (from google-generativeai<0.9.0,>=0.8.0->langchain_google_genai) (4.12.2)\n",
            "Requirement already satisfied: proto-plus<2.0.0dev,>=1.22.3 in /usr/local/lib/python3.10/dist-packages (from google-ai-generativelanguage==0.6.10->google-generativeai<0.9.0,>=0.8.0->langchain_google_genai) (1.25.0)\n",
            "Requirement already satisfied: PyYAML>=5.3 in /usr/local/lib/python3.10/dist-packages (from langchain-core<0.4,>=0.3.15->langchain_google_genai) (6.0.2)\n",
            "Requirement already satisfied: jsonpatch<2.0,>=1.33 in /usr/local/lib/python3.10/dist-packages (from langchain-core<0.4,>=0.3.15->langchain_google_genai) (1.33)\n",
            "Requirement already satisfied: langsmith<0.3,>=0.1.125 in /usr/local/lib/python3.10/dist-packages (from langchain-core<0.4,>=0.3.15->langchain_google_genai) (0.2.3)\n",
            "Requirement already satisfied: packaging<25,>=23.2 in /usr/local/lib/python3.10/dist-packages (from langchain-core<0.4,>=0.3.15->langchain_google_genai) (24.2)\n",
            "Requirement already satisfied: tenacity!=8.4.0,<10.0.0,>=8.1.0 in /usr/local/lib/python3.10/dist-packages (from langchain-core<0.4,>=0.3.15->langchain_google_genai) (9.0.0)\n",
            "Requirement already satisfied: annotated-types>=0.6.0 in /usr/local/lib/python3.10/dist-packages (from pydantic<3,>=2->langchain_google_genai) (0.7.0)\n",
            "Requirement already satisfied: pydantic-core==2.27.1 in /usr/local/lib/python3.10/dist-packages (from pydantic<3,>=2->langchain_google_genai) (2.27.1)\n",
            "Requirement already satisfied: googleapis-common-protos<2.0.dev0,>=1.56.2 in /usr/local/lib/python3.10/dist-packages (from google-api-core->google-generativeai<0.9.0,>=0.8.0->langchain_google_genai) (1.66.0)\n",
            "Requirement already satisfied: requests<3.0.0.dev0,>=2.18.0 in /usr/local/lib/python3.10/dist-packages (from google-api-core->google-generativeai<0.9.0,>=0.8.0->langchain_google_genai) (2.32.3)\n",
            "Requirement already satisfied: cachetools<6.0,>=2.0.0 in /usr/local/lib/python3.10/dist-packages (from google-auth>=2.15.0->google-generativeai<0.9.0,>=0.8.0->langchain_google_genai) (5.5.0)\n",
            "Requirement already satisfied: pyasn1-modules>=0.2.1 in /usr/local/lib/python3.10/dist-packages (from google-auth>=2.15.0->google-generativeai<0.9.0,>=0.8.0->langchain_google_genai) (0.4.1)\n",
            "Requirement already satisfied: rsa<5,>=3.1.4 in /usr/local/lib/python3.10/dist-packages (from google-auth>=2.15.0->google-generativeai<0.9.0,>=0.8.0->langchain_google_genai) (4.9)\n",
            "Requirement already satisfied: jsonpointer>=1.9 in /usr/local/lib/python3.10/dist-packages (from jsonpatch<2.0,>=1.33->langchain-core<0.4,>=0.3.15->langchain_google_genai) (3.0.0)\n",
            "Requirement already satisfied: httpx<1,>=0.23.0 in /usr/local/lib/python3.10/dist-packages (from langsmith<0.3,>=0.1.125->langchain-core<0.4,>=0.3.15->langchain_google_genai) (0.28.1)\n",
            "Requirement already satisfied: orjson<4.0.0,>=3.9.14 in /usr/local/lib/python3.10/dist-packages (from langsmith<0.3,>=0.1.125->langchain-core<0.4,>=0.3.15->langchain_google_genai) (3.10.12)\n",
            "Requirement already satisfied: requests-toolbelt<2.0.0,>=1.0.0 in /usr/local/lib/python3.10/dist-packages (from langsmith<0.3,>=0.1.125->langchain-core<0.4,>=0.3.15->langchain_google_genai) (1.0.0)\n",
            "Requirement already satisfied: httplib2<1.dev0,>=0.19.0 in /usr/local/lib/python3.10/dist-packages (from google-api-python-client->google-generativeai<0.9.0,>=0.8.0->langchain_google_genai) (0.22.0)\n",
            "Requirement already satisfied: google-auth-httplib2<1.0.0,>=0.2.0 in /usr/local/lib/python3.10/dist-packages (from google-api-python-client->google-generativeai<0.9.0,>=0.8.0->langchain_google_genai) (0.2.0)\n",
            "Requirement already satisfied: uritemplate<5,>=3.0.1 in /usr/local/lib/python3.10/dist-packages (from google-api-python-client->google-generativeai<0.9.0,>=0.8.0->langchain_google_genai) (4.1.1)\n",
            "Requirement already satisfied: grpcio<2.0dev,>=1.33.2 in /usr/local/lib/python3.10/dist-packages (from google-api-core[grpc]!=2.0.*,!=2.1.*,!=2.10.*,!=2.2.*,!=2.3.*,!=2.4.*,!=2.5.*,!=2.6.*,!=2.7.*,!=2.8.*,!=2.9.*,<3.0.0dev,>=1.34.1->google-ai-generativelanguage==0.6.10->google-generativeai<0.9.0,>=0.8.0->langchain_google_genai) (1.68.1)\n",
            "Requirement already satisfied: grpcio-status<2.0.dev0,>=1.33.2 in /usr/local/lib/python3.10/dist-packages (from google-api-core[grpc]!=2.0.*,!=2.1.*,!=2.10.*,!=2.2.*,!=2.3.*,!=2.4.*,!=2.5.*,!=2.6.*,!=2.7.*,!=2.8.*,!=2.9.*,<3.0.0dev,>=1.34.1->google-ai-generativelanguage==0.6.10->google-generativeai<0.9.0,>=0.8.0->langchain_google_genai) (1.62.3)\n",
            "Requirement already satisfied: pyparsing!=3.0.0,!=3.0.1,!=3.0.2,!=3.0.3,<4,>=2.4.2 in /usr/local/lib/python3.10/dist-packages (from httplib2<1.dev0,>=0.19.0->google-api-python-client->google-generativeai<0.9.0,>=0.8.0->langchain_google_genai) (3.2.0)\n",
            "Requirement already satisfied: anyio in /usr/local/lib/python3.10/dist-packages (from httpx<1,>=0.23.0->langsmith<0.3,>=0.1.125->langchain-core<0.4,>=0.3.15->langchain_google_genai) (3.7.1)\n",
            "Requirement already satisfied: certifi in /usr/local/lib/python3.10/dist-packages (from httpx<1,>=0.23.0->langsmith<0.3,>=0.1.125->langchain-core<0.4,>=0.3.15->langchain_google_genai) (2024.12.14)\n",
            "Requirement already satisfied: httpcore==1.* in /usr/local/lib/python3.10/dist-packages (from httpx<1,>=0.23.0->langsmith<0.3,>=0.1.125->langchain-core<0.4,>=0.3.15->langchain_google_genai) (1.0.7)\n",
            "Requirement already satisfied: idna in /usr/local/lib/python3.10/dist-packages (from httpx<1,>=0.23.0->langsmith<0.3,>=0.1.125->langchain-core<0.4,>=0.3.15->langchain_google_genai) (3.10)\n",
            "Requirement already satisfied: h11<0.15,>=0.13 in /usr/local/lib/python3.10/dist-packages (from httpcore==1.*->httpx<1,>=0.23.0->langsmith<0.3,>=0.1.125->langchain-core<0.4,>=0.3.15->langchain_google_genai) (0.14.0)\n",
            "Requirement already satisfied: pyasn1<0.7.0,>=0.4.6 in /usr/local/lib/python3.10/dist-packages (from pyasn1-modules>=0.2.1->google-auth>=2.15.0->google-generativeai<0.9.0,>=0.8.0->langchain_google_genai) (0.6.1)\n",
            "Requirement already satisfied: charset-normalizer<4,>=2 in /usr/local/lib/python3.10/dist-packages (from requests<3.0.0.dev0,>=2.18.0->google-api-core->google-generativeai<0.9.0,>=0.8.0->langchain_google_genai) (3.4.0)\n",
            "Requirement already satisfied: urllib3<3,>=1.21.1 in /usr/local/lib/python3.10/dist-packages (from requests<3.0.0.dev0,>=2.18.0->google-api-core->google-generativeai<0.9.0,>=0.8.0->langchain_google_genai) (2.2.3)\n",
            "Requirement already satisfied: sniffio>=1.1 in /usr/local/lib/python3.10/dist-packages (from anyio->httpx<1,>=0.23.0->langsmith<0.3,>=0.1.125->langchain-core<0.4,>=0.3.15->langchain_google_genai) (1.3.1)\n",
            "Requirement already satisfied: exceptiongroup in /usr/local/lib/python3.10/dist-packages (from anyio->httpx<1,>=0.23.0->langsmith<0.3,>=0.1.125->langchain-core<0.4,>=0.3.15->langchain_google_genai) (1.2.2)\n",
            "Downloading langchain_google_genai-2.0.7-py3-none-any.whl (41 kB)\n",
            "\u001b[2K   \u001b[90m━━━━━━━━━━━━━━━━━━━━━━━━━━━━━━━━━━━━━━━━\u001b[0m \u001b[32m41.3/41.3 kB\u001b[0m \u001b[31m672.3 kB/s\u001b[0m eta \u001b[36m0:00:00\u001b[0m\n",
            "\u001b[?25hDownloading filetype-1.2.0-py2.py3-none-any.whl (19 kB)\n",
            "Installing collected packages: filetype, langchain_google_genai\n",
            "Successfully installed filetype-1.2.0 langchain_google_genai-2.0.7\n"
          ]
        }
      ]
    },
    {
      "cell_type": "code",
      "source": [
        "! pip install langchain_community"
      ],
      "metadata": {
        "colab": {
          "base_uri": "https://localhost:8080/"
        },
        "id": "sWEjg0D7RWES",
        "outputId": "b79429a5-1684-4ef3-82bb-7eceab3720be"
      },
      "execution_count": 4,
      "outputs": [
        {
          "output_type": "stream",
          "name": "stdout",
          "text": [
            "Collecting langchain_community\n",
            "  Downloading langchain_community-0.3.13-py3-none-any.whl.metadata (2.9 kB)\n",
            "Requirement already satisfied: PyYAML>=5.3 in /usr/local/lib/python3.10/dist-packages (from langchain_community) (6.0.2)\n",
            "Requirement already satisfied: SQLAlchemy<3,>=1.4 in /usr/local/lib/python3.10/dist-packages (from langchain_community) (2.0.36)\n",
            "Requirement already satisfied: aiohttp<4.0.0,>=3.8.3 in /usr/local/lib/python3.10/dist-packages (from langchain_community) (3.11.10)\n",
            "Collecting dataclasses-json<0.7,>=0.5.7 (from langchain_community)\n",
            "  Downloading dataclasses_json-0.6.7-py3-none-any.whl.metadata (25 kB)\n",
            "Collecting httpx-sse<0.5.0,>=0.4.0 (from langchain_community)\n",
            "  Downloading httpx_sse-0.4.0-py3-none-any.whl.metadata (9.0 kB)\n",
            "Collecting langchain<0.4.0,>=0.3.13 (from langchain_community)\n",
            "  Downloading langchain-0.3.13-py3-none-any.whl.metadata (7.1 kB)\n",
            "Collecting langchain-core<0.4.0,>=0.3.27 (from langchain_community)\n",
            "  Downloading langchain_core-0.3.28-py3-none-any.whl.metadata (6.3 kB)\n",
            "Requirement already satisfied: langsmith<0.3,>=0.1.125 in /usr/local/lib/python3.10/dist-packages (from langchain_community) (0.2.3)\n",
            "Requirement already satisfied: numpy<2,>=1.22.4 in /usr/local/lib/python3.10/dist-packages (from langchain_community) (1.26.4)\n",
            "Collecting pydantic-settings<3.0.0,>=2.4.0 (from langchain_community)\n",
            "  Downloading pydantic_settings-2.7.0-py3-none-any.whl.metadata (3.5 kB)\n",
            "Requirement already satisfied: requests<3,>=2 in /usr/local/lib/python3.10/dist-packages (from langchain_community) (2.32.3)\n",
            "Requirement already satisfied: tenacity!=8.4.0,<10,>=8.1.0 in /usr/local/lib/python3.10/dist-packages (from langchain_community) (9.0.0)\n",
            "Requirement already satisfied: aiohappyeyeballs>=2.3.0 in /usr/local/lib/python3.10/dist-packages (from aiohttp<4.0.0,>=3.8.3->langchain_community) (2.4.4)\n",
            "Requirement already satisfied: aiosignal>=1.1.2 in /usr/local/lib/python3.10/dist-packages (from aiohttp<4.0.0,>=3.8.3->langchain_community) (1.3.2)\n",
            "Requirement already satisfied: async-timeout<6.0,>=4.0 in /usr/local/lib/python3.10/dist-packages (from aiohttp<4.0.0,>=3.8.3->langchain_community) (4.0.3)\n",
            "Requirement already satisfied: attrs>=17.3.0 in /usr/local/lib/python3.10/dist-packages (from aiohttp<4.0.0,>=3.8.3->langchain_community) (24.3.0)\n",
            "Requirement already satisfied: frozenlist>=1.1.1 in /usr/local/lib/python3.10/dist-packages (from aiohttp<4.0.0,>=3.8.3->langchain_community) (1.5.0)\n",
            "Requirement already satisfied: multidict<7.0,>=4.5 in /usr/local/lib/python3.10/dist-packages (from aiohttp<4.0.0,>=3.8.3->langchain_community) (6.1.0)\n",
            "Requirement already satisfied: propcache>=0.2.0 in /usr/local/lib/python3.10/dist-packages (from aiohttp<4.0.0,>=3.8.3->langchain_community) (0.2.1)\n",
            "Requirement already satisfied: yarl<2.0,>=1.17.0 in /usr/local/lib/python3.10/dist-packages (from aiohttp<4.0.0,>=3.8.3->langchain_community) (1.18.3)\n",
            "Collecting marshmallow<4.0.0,>=3.18.0 (from dataclasses-json<0.7,>=0.5.7->langchain_community)\n",
            "  Downloading marshmallow-3.23.2-py3-none-any.whl.metadata (7.1 kB)\n",
            "Collecting typing-inspect<1,>=0.4.0 (from dataclasses-json<0.7,>=0.5.7->langchain_community)\n",
            "  Downloading typing_inspect-0.9.0-py3-none-any.whl.metadata (1.5 kB)\n",
            "Requirement already satisfied: langchain-text-splitters<0.4.0,>=0.3.3 in /usr/local/lib/python3.10/dist-packages (from langchain<0.4.0,>=0.3.13->langchain_community) (0.3.3)\n",
            "Requirement already satisfied: pydantic<3.0.0,>=2.7.4 in /usr/local/lib/python3.10/dist-packages (from langchain<0.4.0,>=0.3.13->langchain_community) (2.10.3)\n",
            "Requirement already satisfied: jsonpatch<2.0,>=1.33 in /usr/local/lib/python3.10/dist-packages (from langchain-core<0.4.0,>=0.3.27->langchain_community) (1.33)\n",
            "Requirement already satisfied: packaging<25,>=23.2 in /usr/local/lib/python3.10/dist-packages (from langchain-core<0.4.0,>=0.3.27->langchain_community) (24.2)\n",
            "Requirement already satisfied: typing-extensions>=4.7 in /usr/local/lib/python3.10/dist-packages (from langchain-core<0.4.0,>=0.3.27->langchain_community) (4.12.2)\n",
            "Requirement already satisfied: httpx<1,>=0.23.0 in /usr/local/lib/python3.10/dist-packages (from langsmith<0.3,>=0.1.125->langchain_community) (0.28.1)\n",
            "Requirement already satisfied: orjson<4.0.0,>=3.9.14 in /usr/local/lib/python3.10/dist-packages (from langsmith<0.3,>=0.1.125->langchain_community) (3.10.12)\n",
            "Requirement already satisfied: requests-toolbelt<2.0.0,>=1.0.0 in /usr/local/lib/python3.10/dist-packages (from langsmith<0.3,>=0.1.125->langchain_community) (1.0.0)\n",
            "Collecting python-dotenv>=0.21.0 (from pydantic-settings<3.0.0,>=2.4.0->langchain_community)\n",
            "  Downloading python_dotenv-1.0.1-py3-none-any.whl.metadata (23 kB)\n",
            "Requirement already satisfied: charset-normalizer<4,>=2 in /usr/local/lib/python3.10/dist-packages (from requests<3,>=2->langchain_community) (3.4.0)\n",
            "Requirement already satisfied: idna<4,>=2.5 in /usr/local/lib/python3.10/dist-packages (from requests<3,>=2->langchain_community) (3.10)\n",
            "Requirement already satisfied: urllib3<3,>=1.21.1 in /usr/local/lib/python3.10/dist-packages (from requests<3,>=2->langchain_community) (2.2.3)\n",
            "Requirement already satisfied: certifi>=2017.4.17 in /usr/local/lib/python3.10/dist-packages (from requests<3,>=2->langchain_community) (2024.12.14)\n",
            "Requirement already satisfied: greenlet!=0.4.17 in /usr/local/lib/python3.10/dist-packages (from SQLAlchemy<3,>=1.4->langchain_community) (3.1.1)\n",
            "Requirement already satisfied: anyio in /usr/local/lib/python3.10/dist-packages (from httpx<1,>=0.23.0->langsmith<0.3,>=0.1.125->langchain_community) (3.7.1)\n",
            "Requirement already satisfied: httpcore==1.* in /usr/local/lib/python3.10/dist-packages (from httpx<1,>=0.23.0->langsmith<0.3,>=0.1.125->langchain_community) (1.0.7)\n",
            "Requirement already satisfied: h11<0.15,>=0.13 in /usr/local/lib/python3.10/dist-packages (from httpcore==1.*->httpx<1,>=0.23.0->langsmith<0.3,>=0.1.125->langchain_community) (0.14.0)\n",
            "Requirement already satisfied: jsonpointer>=1.9 in /usr/local/lib/python3.10/dist-packages (from jsonpatch<2.0,>=1.33->langchain-core<0.4.0,>=0.3.27->langchain_community) (3.0.0)\n",
            "Requirement already satisfied: annotated-types>=0.6.0 in /usr/local/lib/python3.10/dist-packages (from pydantic<3.0.0,>=2.7.4->langchain<0.4.0,>=0.3.13->langchain_community) (0.7.0)\n",
            "Requirement already satisfied: pydantic-core==2.27.1 in /usr/local/lib/python3.10/dist-packages (from pydantic<3.0.0,>=2.7.4->langchain<0.4.0,>=0.3.13->langchain_community) (2.27.1)\n",
            "Collecting mypy-extensions>=0.3.0 (from typing-inspect<1,>=0.4.0->dataclasses-json<0.7,>=0.5.7->langchain_community)\n",
            "  Downloading mypy_extensions-1.0.0-py3-none-any.whl.metadata (1.1 kB)\n",
            "Requirement already satisfied: sniffio>=1.1 in /usr/local/lib/python3.10/dist-packages (from anyio->httpx<1,>=0.23.0->langsmith<0.3,>=0.1.125->langchain_community) (1.3.1)\n",
            "Requirement already satisfied: exceptiongroup in /usr/local/lib/python3.10/dist-packages (from anyio->httpx<1,>=0.23.0->langsmith<0.3,>=0.1.125->langchain_community) (1.2.2)\n",
            "Downloading langchain_community-0.3.13-py3-none-any.whl (2.5 MB)\n",
            "\u001b[2K   \u001b[90m━━━━━━━━━━━━━━━━━━━━━━━━━━━━━━━━━━━━━━━━\u001b[0m \u001b[32m2.5/2.5 MB\u001b[0m \u001b[31m24.6 MB/s\u001b[0m eta \u001b[36m0:00:00\u001b[0m\n",
            "\u001b[?25hDownloading dataclasses_json-0.6.7-py3-none-any.whl (28 kB)\n",
            "Downloading httpx_sse-0.4.0-py3-none-any.whl (7.8 kB)\n",
            "Downloading langchain-0.3.13-py3-none-any.whl (1.0 MB)\n",
            "\u001b[2K   \u001b[90m━━━━━━━━━━━━━━━━━━━━━━━━━━━━━━━━━━━━━━━━\u001b[0m \u001b[32m1.0/1.0 MB\u001b[0m \u001b[31m19.6 MB/s\u001b[0m eta \u001b[36m0:00:00\u001b[0m\n",
            "\u001b[?25hDownloading langchain_core-0.3.28-py3-none-any.whl (411 kB)\n",
            "\u001b[2K   \u001b[90m━━━━━━━━━━━━━━━━━━━━━━━━━━━━━━━━━━━━━━━━\u001b[0m \u001b[32m411.6/411.6 kB\u001b[0m \u001b[31m12.1 MB/s\u001b[0m eta \u001b[36m0:00:00\u001b[0m\n",
            "\u001b[?25hDownloading pydantic_settings-2.7.0-py3-none-any.whl (29 kB)\n",
            "Downloading marshmallow-3.23.2-py3-none-any.whl (49 kB)\n",
            "\u001b[2K   \u001b[90m━━━━━━━━━━━━━━━━━━━━━━━━━━━━━━━━━━━━━━━━\u001b[0m \u001b[32m49.3/49.3 kB\u001b[0m \u001b[31m3.0 MB/s\u001b[0m eta \u001b[36m0:00:00\u001b[0m\n",
            "\u001b[?25hDownloading python_dotenv-1.0.1-py3-none-any.whl (19 kB)\n",
            "Downloading typing_inspect-0.9.0-py3-none-any.whl (8.8 kB)\n",
            "Downloading mypy_extensions-1.0.0-py3-none-any.whl (4.7 kB)\n",
            "Installing collected packages: python-dotenv, mypy-extensions, marshmallow, httpx-sse, typing-inspect, pydantic-settings, dataclasses-json, langchain-core, langchain, langchain_community\n",
            "  Attempting uninstall: langchain-core\n",
            "    Found existing installation: langchain-core 0.3.25\n",
            "    Uninstalling langchain-core-0.3.25:\n",
            "      Successfully uninstalled langchain-core-0.3.25\n",
            "  Attempting uninstall: langchain\n",
            "    Found existing installation: langchain 0.3.12\n",
            "    Uninstalling langchain-0.3.12:\n",
            "      Successfully uninstalled langchain-0.3.12\n",
            "Successfully installed dataclasses-json-0.6.7 httpx-sse-0.4.0 langchain-0.3.13 langchain-core-0.3.28 langchain_community-0.3.13 marshmallow-3.23.2 mypy-extensions-1.0.0 pydantic-settings-2.7.0 python-dotenv-1.0.1 typing-inspect-0.9.0\n"
          ]
        }
      ]
    },
    {
      "cell_type": "markdown",
      "source": [
        "# 2. Import necessary libraries"
      ],
      "metadata": {
        "id": "O-xfTjl-bAnX"
      }
    },
    {
      "cell_type": "code",
      "source": [
        "# Import necessary libraries\n",
        "\n",
        "from langchain.prompts import PromptTemplate\n",
        "from langchain.llms import OpenAI\n",
        "import warnings\n",
        "warnings.filterwarnings(\"ignore\")"
      ],
      "metadata": {
        "id": "hPQ8Bp-1ReVt"
      },
      "execution_count": 5,
      "outputs": []
    },
    {
      "cell_type": "markdown",
      "source": [
        "# 3. Instantiate the Open AI and Gemini models using the keys"
      ],
      "metadata": {
        "id": "Q2Sc6VorbJ-O"
      }
    },
    {
      "cell_type": "code",
      "source": [
        "# Initiating the chat model with API key\n",
        "\n",
        "openai = OpenAI(openai_api_key = \"add the openai key here\")\n"
      ],
      "metadata": {
        "id": "L9niDHvTRo85"
      },
      "execution_count": 6,
      "outputs": []
    },
    {
      "cell_type": "code",
      "source": [
        "# Initiating the chat model with API key\n",
        "\n",
        "from langchain_google_genai import GoogleGenerativeAI\n",
        "\n",
        "gemini = GoogleGenerativeAI(google_api_key = \"add the gemini key here\" , model=\"models/gemini-1.5-pro-latest\")"
      ],
      "metadata": {
        "id": "bVk81kM2bnXV"
      },
      "execution_count": 7,
      "outputs": []
    },
    {
      "cell_type": "markdown",
      "source": [
        "# 4. Define and instantiate the prompt template"
      ],
      "metadata": {
        "id": "qjYetl5ybQ2J"
      }
    },
    {
      "cell_type": "code",
      "source": [
        "# Define the prompt template with chain-of-thought instruction\n",
        "\n",
        "prompt_template = \"\"\"\n",
        "\n",
        "Break down the query into segmented thoughts and analyze each one before forming a comprehensive response: '{user_input}'.\n",
        "\n",
        "Step 1: Outline major historical factors such as economic troubles, which include issues like inflation and reliance on slave labor.\n",
        "\n",
        "Step 2: Discuss military problems, detailing the constant threats from outside barbarian groups and the internal pressures from armies loyal to different leaders.\n",
        "\n",
        "Step 3: Explore political instability, noting the frequent changes in leadership and the splitting of the Empire into East and West.\n",
        "\n",
        "Step 4: Link these factors together, illustrating how economic, military, and political issues interconnected to weaken the Empire.\n",
        "\n",
        "Step 5: Summarize how these interconnected factors collectively contributed to the decline and eventual fall of the  Empire.\n",
        "\n",
        "\"\"\""
      ],
      "metadata": {
        "id": "-fcOXbRhR922"
      },
      "execution_count": 13,
      "outputs": []
    },
    {
      "cell_type": "code",
      "source": [
        "# Create a PromptTemplate object\n",
        "\n",
        "prompt = PromptTemplate(\n",
        "    input_variables=[\"user_input\"],\n",
        "    template=prompt_template\n",
        ")"
      ],
      "metadata": {
        "id": "WILzuvOGSGvd"
      },
      "execution_count": 14,
      "outputs": []
    },
    {
      "cell_type": "markdown",
      "source": [
        "# 5. Execute the task using Open AI and Gemini models"
      ],
      "metadata": {
        "id": "_cqrB_ixbe5h"
      }
    },
    {
      "cell_type": "code",
      "source": [
        "# Example usage 1\n",
        "user_input = \"What were the main causes of the fall of the Roman Empire?\"\n",
        "prompt_with_cot = prompt.format_prompt(user_input=user_input)"
      ],
      "metadata": {
        "id": "Y9uK4iJYSmeD"
      },
      "execution_count": 15,
      "outputs": []
    },
    {
      "cell_type": "code",
      "source": [
        "prompt_with_cot.text"
      ],
      "metadata": {
        "colab": {
          "base_uri": "https://localhost:8080/",
          "height": 105
        },
        "id": "e7jnpOmXTTwM",
        "outputId": "379ae358-a271-42e9-dd9b-582ca6ebf0a7"
      },
      "execution_count": 16,
      "outputs": [
        {
          "output_type": "execute_result",
          "data": {
            "text/plain": [
              "\"\\n\\nBreak down the query into segmented thoughts and analyze each one before forming a comprehensive response: 'What were the main causes of the fall of the Roman Empire?'.\\n\\nStep 1: Outline major historical factors such as economic troubles, which include issues like inflation and reliance on slave labor.\\n\\nStep 2: Discuss military problems, detailing the constant threats from outside barbarian groups and the internal pressures from armies loyal to different leaders.\\n\\nStep 3: Explore political instability, noting the frequent changes in leadership and the splitting of the Empire into East and West.\\n\\nStep 4: Link these factors together, illustrating how economic, military, and political issues interconnected to weaken the Empire.\\n\\nStep 5: Summarize how these interconnected factors collectively contributed to the decline and eventual fall of the  Empire.\\n\\n\""
            ],
            "application/vnd.google.colaboratory.intrinsic+json": {
              "type": "string"
            }
          },
          "metadata": {},
          "execution_count": 16
        }
      ]
    },
    {
      "cell_type": "code",
      "source": [
        "# Generate response\n",
        "response = gemini(prompt_with_cot.text)\n",
        "print(response)"
      ],
      "metadata": {
        "colab": {
          "base_uri": "https://localhost:8080/"
        },
        "id": "A5qhk8f6b6_9",
        "outputId": "0da85a90-42c4-4a27-b80c-2ad410103b92"
      },
      "execution_count": 17,
      "outputs": [
        {
          "output_type": "stream",
          "name": "stdout",
          "text": [
            "Let's break down the question \"What were the main causes of the fall of the Roman Empire?\" step-by-step:\n",
            "\n",
            "**Step 1: Economic Troubles**\n",
            "\n",
            "* **Thought:** The Roman economy faced significant challenges that weakened its foundations.\n",
            "* **Analysis:**  Inflation became rampant, devaluing the currency.  The economy was heavily reliant on slave labor, which stifled technological innovation and created a large, unproductive underclass.  Overextension of resources through constant expansion and lavish spending by the elite further drained the treasury.  Trade routes were disrupted by barbarian incursions, impacting revenue and access to essential goods.  Taxation became increasingly burdensome, leading to widespread resentment and evasion.\n",
            "\n",
            "**Step 2: Military Problems**\n",
            "\n",
            "* **Thought:** The Roman military, once a symbol of power, became a source of vulnerability.\n",
            "* **Analysis:**  Constant pressure from Germanic tribes and other \"barbarian\" groups along the frontiers stretched Roman resources thin.  The army itself became increasingly reliant on foreign recruits, sometimes lacking the same loyalty and discipline as Roman citizens.  Civil wars and power struggles frequently erupted, with armies loyal to different generals vying for control, further destabilizing the Empire and diverting resources away from external threats.  The sheer size of the Empire made defense logistically challenging and expensive.\n",
            "\n",
            "**Step 3: Political Instability**\n",
            "\n",
            "* **Thought:** The Roman political system, once a model of stability, became increasingly chaotic.\n",
            "* **Analysis:**  Frequent changes in leadership, including assassinations and coups, created instability and uncertainty.  Corruption and inefficiency became widespread within the government.  The division of the Empire into East and West, intended to improve administration, ultimately exacerbated existing problems and created two separate centers of power with often conflicting interests.  This division weakened both halves, making them more susceptible to internal and external threats.\n",
            "\n",
            "**Step 4: Interconnectedness of Factors**\n",
            "\n",
            "* **Thought:** The economic, military, and political problems were not isolated but intertwined, exacerbating each other.\n",
            "* **Analysis:** Economic woes made it difficult to fund the military effectively, leading to a weaker defense and increased vulnerability to barbarian incursions.  Military instability fueled political instability, as generals used their armies to seize power.  Political instability, in turn, worsened the economic situation through poor governance and corruption.  This created a vicious cycle of decline.  For example, the need for more soldiers led to increased reliance on barbarian mercenaries, who often demanded higher pay and sometimes turned against the Empire, further straining the already weakened economy.\n",
            "\n",
            "**Step 5: Summary and Conclusion**\n",
            "\n",
            "* **Thought:** The combined effect of these interconnected factors led to the gradual decline and eventual fall of the Roman Empire.\n",
            "* **Analysis:** The Western Roman Empire, weakened by these combined pressures, ultimately succumbed to barbarian invasions and internal strife.  While the Eastern Roman Empire (Byzantine Empire) survived for centuries longer, it too faced similar challenges, albeit with varying degrees of success in managing them. The fall of the Western Roman Empire marks a significant turning point in history, highlighting the fragility of even the most powerful empires when faced with a combination of internal and external pressures.  It serves as a cautionary tale about the importance of sound economic policies, a strong and loyal military, and a stable and effective political system.\n",
            "\n"
          ]
        }
      ]
    },
    {
      "cell_type": "code",
      "source": [
        "# Example usage 2\n",
        "user_input = \"What were the main causes of the fall of the Persian Empire?\"\n",
        "prompt_with_cot = prompt.format_prompt(user_input=user_input)"
      ],
      "metadata": {
        "id": "2qHqUkISYvMe"
      },
      "execution_count": 18,
      "outputs": []
    },
    {
      "cell_type": "code",
      "source": [
        "prompt_with_cot.text"
      ],
      "metadata": {
        "colab": {
          "base_uri": "https://localhost:8080/",
          "height": 105
        },
        "id": "83VhMGMMjw4C",
        "outputId": "15a1c2ed-b8f7-4802-ee1e-718c61834acc"
      },
      "execution_count": 19,
      "outputs": [
        {
          "output_type": "execute_result",
          "data": {
            "text/plain": [
              "\"\\n\\nBreak down the query into segmented thoughts and analyze each one before forming a comprehensive response: 'What were the main causes of the fall of the Persian Empire?'.\\n\\nStep 1: Outline major historical factors such as economic troubles, which include issues like inflation and reliance on slave labor.\\n\\nStep 2: Discuss military problems, detailing the constant threats from outside barbarian groups and the internal pressures from armies loyal to different leaders.\\n\\nStep 3: Explore political instability, noting the frequent changes in leadership and the splitting of the Empire into East and West.\\n\\nStep 4: Link these factors together, illustrating how economic, military, and political issues interconnected to weaken the Empire.\\n\\nStep 5: Summarize how these interconnected factors collectively contributed to the decline and eventual fall of the  Empire.\\n\\n\""
            ],
            "application/vnd.google.colaboratory.intrinsic+json": {
              "type": "string"
            }
          },
          "metadata": {},
          "execution_count": 19
        }
      ]
    },
    {
      "cell_type": "code",
      "source": [
        "# Generate response\n",
        "response2 = gemini(prompt_with_cot.text)\n",
        "print(response2)"
      ],
      "metadata": {
        "colab": {
          "base_uri": "https://localhost:8080/"
        },
        "id": "QZHAS0091O7P",
        "outputId": "aad59403-56dc-408a-ba0d-91caae9648a4"
      },
      "execution_count": 20,
      "outputs": [
        {
          "output_type": "stream",
          "name": "stdout",
          "text": [
            "Let's break down the causes of the Persian Empire's fall:\n",
            "\n",
            "**Step 1: Economic Troubles**\n",
            "\n",
            "* **Thought:** The Persian Empire faced significant economic challenges.\n",
            "* **Analysis:**  A vast empire like Persia required substantial resources to maintain. Over time, factors like inflation, likely caused by excessive spending and debasement of currency, could have eroded the empire's economic base.  Reliance on slave labor, while common in the ancient world, discouraged technological innovation and created a less dynamic economy compared to societies with more incentivized workforces.  Further, constant warfare drained the treasury.  Taxation, especially from conquered peoples, may have become unsustainable, leading to resentment and rebellion.\n",
            "\n",
            "**Step 2: Military Problems**\n",
            "\n",
            "* **Thought:** The Persian military, while initially powerful, faced growing internal and external pressures.\n",
            "* **Analysis:**  External threats from \"barbarian\" groups, such as the Scythians, Greeks, and later Macedonians, continuously challenged the empire's borders.  Defending such a vast territory was costly and manpower-intensive.  Internally, the loyalty of satraps (provincial governors) and their armies could be fickle.  Ambitious satraps might challenge the central authority, leading to civil wars and weakening the empire's overall military strength.  The sheer size of the empire also made logistical support and communication difficult, hindering effective military coordination.\n",
            "\n",
            "**Step 3: Political Instability**\n",
            "\n",
            "* **Thought:**  The Persian Empire suffered from frequent leadership changes and internal divisions.\n",
            "* **Analysis:**  Succession crises were common.  The death of a strong ruler often led to power struggles among potential heirs, destabilizing the empire.  Intrigue and assassination were not uncommon. This instability weakened central authority and encouraged provincial governors to seek greater autonomy.  The division of the empire into eastern and western administrative zones, while intended to improve governance, may have inadvertently exacerbated internal divisions and weakened the overall cohesion of the empire.\n",
            "\n",
            "**Step 4: Interconnectedness of Factors**\n",
            "\n",
            "* **Thought:** The economic, military, and political problems were interconnected and reinforced each other, creating a downward spiral.\n",
            "* **Analysis:**  Economic weakness made it harder to maintain a strong military.  A weakened military made the empire more vulnerable to external threats and internal rebellions. Political instability exacerbated both economic and military problems, as resources were diverted to internal power struggles and the overall administration became less efficient. For example, a rebellion requiring military suppression would drain the treasury, further weakening the economy and potentially sparking further unrest in other provinces.  This created a vicious cycle of decline.\n",
            "\n",
            "**Step 5: Collective Contribution to the Fall**\n",
            "\n",
            "* **Thought:** The combined effect of these interconnected factors ultimately led to the fall of the Persian Empire.\n",
            "* **Analysis:**  The Persian Empire, weakened by internal strife and economic difficulties, became increasingly vulnerable to external conquest.  Alexander the Great's invasion in the 4th century BCE delivered the final blow. While Alexander's military genius was a significant factor, his success was also due to the pre-existing weaknesses within the Persian Empire. The economic hardship, military overextension, and political instability had eroded the empire's resilience, making it unable to withstand a concerted external attack. The once mighty Persian Empire, unable to address its internal problems, ultimately succumbed to a combination of internal decay and external pressure.\n",
            "\n"
          ]
        }
      ]
    },
    {
      "cell_type": "code",
      "source": [
        "# Example usage 3\n",
        "user_input = \"What were the main causes of the fall of the Mauryan Empire?\"\n",
        "prompt_with_cot = prompt.format_prompt(user_input=user_input)"
      ],
      "metadata": {
        "id": "Wn7P8LqofI5q"
      },
      "execution_count": 21,
      "outputs": []
    },
    {
      "cell_type": "code",
      "source": [
        "prompt_with_cot.text"
      ],
      "metadata": {
        "colab": {
          "base_uri": "https://localhost:8080/",
          "height": 105
        },
        "id": "1L_tzxLrXcFE",
        "outputId": "158d48bc-25ee-44ad-b0f3-f7755b62a5d1"
      },
      "execution_count": 22,
      "outputs": [
        {
          "output_type": "execute_result",
          "data": {
            "text/plain": [
              "\"\\n\\nBreak down the query into segmented thoughts and analyze each one before forming a comprehensive response: 'What were the main causes of the fall of the Mauryan Empire?'.\\n\\nStep 1: Outline major historical factors such as economic troubles, which include issues like inflation and reliance on slave labor.\\n\\nStep 2: Discuss military problems, detailing the constant threats from outside barbarian groups and the internal pressures from armies loyal to different leaders.\\n\\nStep 3: Explore political instability, noting the frequent changes in leadership and the splitting of the Empire into East and West.\\n\\nStep 4: Link these factors together, illustrating how economic, military, and political issues interconnected to weaken the Empire.\\n\\nStep 5: Summarize how these interconnected factors collectively contributed to the decline and eventual fall of the  Empire.\\n\\n\""
            ],
            "application/vnd.google.colaboratory.intrinsic+json": {
              "type": "string"
            }
          },
          "metadata": {},
          "execution_count": 22
        }
      ]
    },
    {
      "cell_type": "code",
      "source": [
        "# Generate response\n",
        "response3 = gemini(prompt_with_cot.text)\n",
        "print(response3)"
      ],
      "metadata": {
        "colab": {
          "base_uri": "https://localhost:8080/"
        },
        "id": "kdQxP5u8Xggw",
        "outputId": "e3a98f5e-8a86-4721-bbdf-548fe6736a01"
      },
      "execution_count": 23,
      "outputs": [
        {
          "output_type": "stream",
          "name": "stdout",
          "text": [
            "Let's break down the question \"What were the main causes of the fall of the Mauryan Empire?\" following the provided steps:\n",
            "\n",
            "**Step 1: Economic Troubles**\n",
            "\n",
            "* **Thought:** The Mauryan Empire faced economic challenges that weakened its foundations.\n",
            "* **Analysis:**  A vast empire like the Mauryan required substantial resources to maintain. Evidence suggests increasing economic strain, potentially due to factors like:\n",
            "    * **Inflation:**  Overspending, especially on vast armies and public works, could have led to currency devaluation.\n",
            "    * **Reliance on Slave Labor:** While providing a workforce, slave labor can stifle technological innovation and long-term economic growth.  It also creates a class susceptible to revolt.\n",
            "    * **Agrarian Economy Dependent on Monsoons:**  Fluctuations in agricultural output due to unpredictable monsoons could have destabilized the economy.\n",
            "    * **High Taxation:**  Heavy taxation, needed to support the large bureaucracy and army, could have burdened the population, leading to unrest and reduced productivity.\n",
            "\n",
            "**Step 2: Military Problems**\n",
            "\n",
            "* **Thought:** The Mauryan Empire faced both external and internal military pressures.\n",
            "* **Analysis:**\n",
            "    * **External Threats:** The empire's vast borders were constantly threatened by incursions from groups like the Indo-Greeks and other nomadic tribes.  Defending these frontiers required significant resources and manpower, straining the imperial treasury.\n",
            "    * **Internal Pressures:**  The decentralized nature of the empire, especially in its later years, meant that regional governors and military commanders held significant power. This could lead to internal conflicts and challenges to the central authority.  Loyalty of the army was not always guaranteed to the emperor.\n",
            "\n",
            "**Step 3: Political Instability**\n",
            "\n",
            "* **Thought:**  Frequent changes in leadership and administrative divisions weakened the empire's cohesion.\n",
            "* **Analysis:**\n",
            "    * **Succession Disputes:**  Clear lines of succession weren't always established, leading to power struggles and instability after the death of strong rulers like Ashoka.\n",
            "    * **Weak Rulers:**  Following Ashoka, several rulers were perceived as weak or ineffective, unable to maintain control over the vast empire.\n",
            "    * **Division of the Empire:** The empire eventually split into eastern and western halves, further weakening its ability to resist external threats and manage internal affairs.  This division reflects the weakening central authority and the growing power of regional leaders.\n",
            "\n",
            "**Step 4: Interconnection of Factors**\n",
            "\n",
            "* **Thought:** These economic, military, and political issues were interconnected and exacerbated each other.\n",
            "* **Analysis:**  Economic troubles, such as inflation, could have reduced the resources available for military defense, making the empire more vulnerable to external threats.  Military weakness, in turn, could further destabilize the political situation, leading to more internal conflicts and succession crises.  Political instability, with weak rulers and internal divisions, made it harder to address the underlying economic and military problems, creating a vicious cycle of decline.  For example, the costs of defending against external threats likely increased taxation, further burdening the population and potentially fueling unrest.\n",
            "\n",
            "**Step 5: Summary of Decline and Fall**\n",
            "\n",
            "The fall of the Mauryan Empire wasn't a single event but a gradual process of decline driven by interconnected factors.  Economic woes weakened the empire's ability to maintain its vast army and administrative structure.  This military weakness made the empire vulnerable to external invasions and internal rebellions. Political instability, marked by weak rulers and internal divisions, further exacerbated the situation.  The cumulative effect of these interconnected factors ultimately led to the fragmentation and eventual collapse of the Mauryan Empire, paving the way for new regional powers to emerge.\n",
            "\n"
          ]
        }
      ]
    },
    {
      "cell_type": "code",
      "source": [
        "# Example usage 4\n",
        "user_input = \"What were the main causes of the fall of the Mughal Empire?\"\n",
        "prompt_with_cot = prompt.format_prompt(user_input=user_input)"
      ],
      "metadata": {
        "id": "Ttnib2C8XpFP"
      },
      "execution_count": 24,
      "outputs": []
    },
    {
      "cell_type": "code",
      "source": [
        "# Generate response\n",
        "response4 = gemini(prompt_with_cot.text)\n",
        "print(response4)"
      ],
      "metadata": {
        "colab": {
          "base_uri": "https://localhost:8080/"
        },
        "id": "2AJ41razYbQt",
        "outputId": "d62930f0-d8d4-4c48-c363-c38a2815f153"
      },
      "execution_count": 25,
      "outputs": [
        {
          "output_type": "stream",
          "name": "stdout",
          "text": [
            "Let's break down the causes of the Mughal Empire's decline.\n",
            "\n",
            "**Step 1: Economic Troubles**\n",
            "\n",
            "* **Thought:** The Mughal Empire faced severe economic challenges.\n",
            "* **Analysis:**  The economy, once prosperous, began to crumble under the weight of several factors.  Inflation became a major problem, likely due to increased money supply (possibly from silver influx and later debasement) without a corresponding increase in goods and services.  The lavish lifestyles of later emperors and their courts drained the treasury.  While not strictly \"slave labor,\" the Mughal system heavily relied on forced labor and extraction of wealth from peasants and artisans, hindering economic growth and fostering resentment.  The Jagirdari system, where land was granted in exchange for military service, became corrupt and inefficient, further weakening the economic base.\n",
            "\n",
            "**Step 2: Military Problems**\n",
            "\n",
            "* **Thought:** The Mughals faced constant military pressures.\n",
            "* **Analysis:**  External threats, particularly from the rising power of the Marathas in the Deccan, continuously drained resources and manpower.  The Mughals also faced incursions from Persians and Afghans. Internally, the army, once a source of strength, became fragmented.  Different factions within the military, including Rajput contingents, owed loyalty to regional leaders and their own interests, rather than the emperor. This internal division weakened the Mughal army's ability to respond effectively to external threats and internal rebellions.  The increasing reliance on expensive European artillery and mercenaries further strained the treasury without guaranteeing military success.\n",
            "\n",
            "**Step 3: Political Instability**\n",
            "\n",
            "* **Thought:** Political instability plagued the later Mughal Empire.\n",
            "* **Analysis:**  The period following Aurangzeb's death in 1707 was marked by a rapid succession of emperors, many of whom were weak or incompetent.  This constant change in leadership created a power vacuum and encouraged ambitious nobles to vie for control, further destabilizing the empire.  The empire effectively split into East and West, with regional governors asserting greater autonomy and challenging the central authority of the emperor.  Religious intolerance, particularly Aurangzeb's policies against Hindus, alienated large segments of the population and fueled rebellions, further contributing to political fragmentation.\n",
            "\n",
            "**Step 4: Interconnected Factors**\n",
            "\n",
            "* **Thought:** The economic, military, and political problems were interconnected and exacerbated each other.\n",
            "* **Analysis:**  The economic decline made it difficult to maintain a strong and loyal army.  The weakened military, in turn, was unable to defend the empire's vast territories from external threats and internal rebellions. This military weakness further fueled political instability as regional governors and other ambitious figures challenged the emperor's authority.  The political instability, in its turn, exacerbated the economic problems by disrupting trade and administration.  This created a vicious cycle of decline.\n",
            "\n",
            "**Step 5: Summary and Conclusion**\n",
            "\n",
            "The Mughal Empire's fall wasn't caused by a single factor, but rather by a complex interplay of economic woes, military weakness, and political instability. The economic decline hampered the military's effectiveness, which in turn fueled political fragmentation.  These factors, feeding off each other, gradually eroded the Mughal Empire's power and paved the way for its eventual demise, culminating in the establishment of British dominance in India.\n",
            "\n"
          ]
        }
      ]
    },
    {
      "cell_type": "code",
      "source": [],
      "metadata": {
        "id": "KD9s1hEsYlBk"
      },
      "execution_count": null,
      "outputs": []
    }
  ]
}